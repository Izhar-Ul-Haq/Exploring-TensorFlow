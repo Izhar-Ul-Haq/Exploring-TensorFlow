{
 "cells": [
  {
   "cell_type": "markdown",
   "metadata": {},
   "source": [
    "# Learning TensorFlow"
   ]
  },
  {
   "cell_type": "code",
   "execution_count": 1,
   "metadata": {},
   "outputs": [],
   "source": [
    "import tensorflow as tf"
   ]
  },
  {
   "cell_type": "code",
   "execution_count": 2,
   "metadata": {},
   "outputs": [],
   "source": [
    "import numpy as np"
   ]
  },
  {
   "cell_type": "code",
   "execution_count": 3,
   "metadata": {},
   "outputs": [],
   "source": [
    "import pandas as pd"
   ]
  },
  {
   "cell_type": "markdown",
   "metadata": {},
   "source": [
    "# TensorFlow - Basics"
   ]
  },
  {
   "cell_type": "code",
   "execution_count": 4,
   "metadata": {},
   "outputs": [],
   "source": [
    "# Tensor is multidimentional array or list"
   ]
  },
  {
   "cell_type": "code",
   "execution_count": 5,
   "metadata": {},
   "outputs": [],
   "source": [
    "# Shape: The number of rows and columns together define the shape of Tensor."
   ]
  },
  {
   "cell_type": "code",
   "execution_count": 6,
   "metadata": {},
   "outputs": [],
   "source": [
    "# Type\n",
    "# Type describes the data type assigned to Tensor’s elements.\n",
    "\n",
    "# A user needs to consider the following activities for building a Tensor −\n",
    "\n",
    "# Build an n-dimensional array\n",
    "# Convert the n-dimensional array."
   ]
  },
  {
   "cell_type": "markdown",
   "metadata": {},
   "source": [
    "# Various Dimensions of TensorFlow\n",
    "TensorFlow includes various dimensions. The dimensions are described in brief below −"
   ]
  },
  {
   "cell_type": "markdown",
   "metadata": {},
   "source": [
    "# One dimensional Tensor\n",
    "One dimensional tensor is a normal array structure which includes one set of values of the same data type.1"
   ]
  },
  {
   "cell_type": "code",
   "execution_count": 7,
   "metadata": {},
   "outputs": [],
   "source": [
    "import numpy as np"
   ]
  },
  {
   "cell_type": "code",
   "execution_count": 8,
   "metadata": {},
   "outputs": [],
   "source": [
    "tensor_1D = np.array([1,2,3,4,5,6,7,8,9], dtype = np.int)\n",
    "tensor_2D = np.array([[1,2,3,4,5,6,7,8,9],\n",
    "                     [12,12,23,34,34,65,34,32,43]\n",
    "                     ], dtype = np.float64)"
   ]
  },
  {
   "cell_type": "code",
   "execution_count": 9,
   "metadata": {},
   "outputs": [
    {
     "name": "stdout",
     "output_type": "stream",
     "text": [
      "[1 2 3 4 5 6 7 8 9]\n",
      "[[ 1.  2.  3.  4.  5.  6.  7.  8.  9.]\n",
      " [12. 12. 23. 34. 34. 65. 34. 32. 43.]]\n",
      "[1 2 3 4 5 6 7 8 9]\n",
      "[[ 1.  2.  3.  4.  5.  6.  7.  8.  9.]\n",
      " [12. 12. 23. 34. 34. 65. 34. 32. 43.]]\n"
     ]
    }
   ],
   "source": [
    "print(tensor_1D)\n",
    "print(tensor_2D)"
   ]
  },
  {
   "cell_type": "code",
   "execution_count": 10,
   "metadata": {},
   "outputs": [
    {
     "name": "stdout",
     "output_type": "stream",
     "text": [
      "(9,)\n",
      "9\n",
      "(9,)\n",
      "9\n"
     ]
    }
   ],
   "source": [
    "print(tensor_1D.shape)\n",
    "print(tensor_1D.size)"
   ]
  },
  {
   "cell_type": "code",
   "execution_count": 11,
   "metadata": {},
   "outputs": [
    {
     "name": "stdout",
     "output_type": "stream",
     "text": [
      "int32\n",
      "int32\n"
     ]
    }
   ],
   "source": [
    "print(tensor_1D.dtype)"
   ]
  },
  {
   "cell_type": "code",
   "execution_count": 12,
   "metadata": {},
   "outputs": [
    {
     "name": "stdout",
     "output_type": "stream",
     "text": [
      "(2, 9)\n",
      "18\n",
      "(2, 9)\n",
      "18\n"
     ]
    }
   ],
   "source": [
    "print(tensor_2D.shape)\n",
    "print(tensor_2D.size)"
   ]
  },
  {
   "cell_type": "code",
   "execution_count": 13,
   "metadata": {},
   "outputs": [
    {
     "name": "stdout",
     "output_type": "stream",
     "text": [
      "[1. 2. 3. 4. 5. 6. 7. 8. 9.]\n",
      "[12. 12. 23. 34. 34. 65. 34. 32. 43.]\n",
      "[1. 2. 3. 4. 5. 6. 7. 8. 9.]\n",
      "[12. 12. 23. 34. 34. 65. 34. 32. 43.]\n"
     ]
    }
   ],
   "source": [
    "print(tensor_2D[0])\n",
    "print(tensor_2D[1])"
   ]
  },
  {
   "cell_type": "markdown",
   "metadata": {},
   "source": [
    "# Tensor Handling and Manipulations"
   ]
  },
  {
   "cell_type": "code",
   "execution_count": 14,
   "metadata": {},
   "outputs": [],
   "source": [
    "matrix1 = np.array([[2,2,2],\n",
    "                   [2,2,2],\n",
    "                   [2,2,2]\n",
    "                   ],dtype = np.int32)\n",
    "matrix2 = np.array([[1,1,1],\n",
    "                   [1,1,1],\n",
    "                   [1,1,1]\n",
    "                   ], dtype = np.int32)"
   ]
  },
  {
   "cell_type": "code",
   "execution_count": 15,
   "metadata": {},
   "outputs": [
    {
     "name": "stdout",
     "output_type": "stream",
     "text": [
      "[[2 2 2]\n",
      " [2 2 2]\n",
      " [2 2 2]]\n",
      "[[1 1 1]\n",
      " [1 1 1]\n",
      " [1 1 1]]\n",
      "[[2 2 2]\n",
      " [2 2 2]\n",
      " [2 2 2]]\n",
      "[[1 1 1]\n",
      " [1 1 1]\n",
      " [1 1 1]]\n"
     ]
    }
   ],
   "source": [
    "print(matrix1)\n",
    "print(matrix2)"
   ]
  },
  {
   "cell_type": "code",
   "execution_count": 16,
   "metadata": {},
   "outputs": [],
   "source": [
    "matrix1 = tf.constant(matrix1)\n",
    "matrix2 = tf.constant(matrix2)"
   ]
  },
  {
   "cell_type": "code",
   "execution_count": 17,
   "metadata": {},
   "outputs": [],
   "source": [
    "matrix_product = tf.matmul(matrix1,matrix2)\n",
    "matrix_addition = tf.add(matrix1,matrix2)"
   ]
  },
  {
   "cell_type": "code",
   "execution_count": 18,
   "metadata": {},
   "outputs": [
    {
     "name": "stdout",
     "output_type": "stream",
     "text": [
      "tf.Tensor(\n",
      "[[6 6 6]\n",
      " [6 6 6]\n",
      " [6 6 6]], shape=(3, 3), dtype=int32)\n",
      "tf.Tensor(\n",
      "[[3 3 3]\n",
      " [3 3 3]\n",
      " [3 3 3]], shape=(3, 3), dtype=int32)\n",
      "tf.Tensor(\n",
      "[[6 6 6]\n",
      " [6 6 6]\n",
      " [6 6 6]], shape=(3, 3), dtype=int32)\n",
      "tf.Tensor(\n",
      "[[3 3 3]\n",
      " [3 3 3]\n",
      " [3 3 3]], shape=(3, 3), dtype=int32)\n"
     ]
    }
   ],
   "source": [
    "print(matrix_product)\n",
    "print(matrix_addition)"
   ]
  },
  {
   "cell_type": "code",
   "execution_count": 19,
   "metadata": {},
   "outputs": [],
   "source": [
    "matrix3 = np.array([\n",
    "    [1,2,3],\n",
    "    [3,9,0.7],\n",
    "    [2,5,9]\n",
    "],dtype = np.float64)"
   ]
  },
  {
   "cell_type": "code",
   "execution_count": 20,
   "metadata": {},
   "outputs": [
    {
     "name": "stdout",
     "output_type": "stream",
     "text": [
      "[[1.  2.  3. ]\n",
      " [3.  9.  0.7]\n",
      " [2.  5.  9. ]]\n",
      "[[1.  2.  3. ]\n",
      " [3.  9.  0.7]\n",
      " [2.  5.  9. ]]\n"
     ]
    }
   ],
   "source": [
    "print(matrix3)"
   ]
  },
  {
   "cell_type": "code",
   "execution_count": null,
   "metadata": {},
   "outputs": [],
   "source": []
  },
  {
   "cell_type": "code",
   "execution_count": null,
   "metadata": {},
   "outputs": [],
   "source": []
  }
 ],
 "metadata": {
  "kernelspec": {
   "display_name": "Python 3",
   "language": "python",
   "name": "python3"
  },
  "language_info": {
   "codemirror_mode": {
    "name": "ipython",
    "version": 3
   },
   "file_extension": ".py",
   "mimetype": "text/x-python",
   "name": "python",
   "nbconvert_exporter": "python",
   "pygments_lexer": "ipython3",
   "version": "3.7.9"
  }
 },
 "nbformat": 4,
 "nbformat_minor": 4
}
